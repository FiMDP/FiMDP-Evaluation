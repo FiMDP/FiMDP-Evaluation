{
 "cells": [
  {
   "cell_type": "markdown",
   "metadata": {},
   "source": [
    "## Comparison: FiMDP vs STORM"
   ]
  },
  {
   "cell_type": "code",
   "execution_count": 53,
   "metadata": {},
   "outputs": [],
   "source": [
    "import fimdp\n",
    "import fimdpenv\n",
    "import fimdpenv.UUVEnv as UUVEnv\n",
    "fimdpenv.setup()\n",
    "import stormpy\n",
    "import pandas as pd\n",
    "import seaborn as sns\n",
    "import matplotlib.pyplot as plt\n",
    "from fimdp import io as fi2st\n",
    "from fimdp.objectives import AS_REACH, BUCHI\n",
    "from fimdp.energy_solvers import BasicES"
   ]
  },
  {
   "cell_type": "markdown",
   "metadata": {},
   "source": [
    "This notebook compares the performance of FiMDP with Storm, anopen-source, state-of-the-art probablistic model checker designed to be efficient in terms of time and memory. We use instances of the UUV Environment to perform experiments. All computations presented below were performed on a PC with Intel Core i7-8700 3.20GHz 12 core processor and a RAM of 16 GB running Ubuntu 18.04 LTS. We start with defining some functions to help us perform the comparison."
   ]
  },
  {
   "cell_type": "code",
   "execution_count": 9,
   "metadata": {},
   "outputs": [],
   "source": [
    "def buchi_storm(storm_mdp):\n",
    "    formula = 'Pmax>=1 [G Pmax>=1 [F \"target\" & Pmax>=1 [F \"reload\"]]]'\n",
    "    prop = stormpy.parse_properties(formula)\n",
    "    \n",
    "    return stormpy.model_checking(storm_mdp, prop[0])"
   ]
  },
  {
   "cell_type": "code",
   "execution_count": 10,
   "metadata": {},
   "outputs": [],
   "source": [
    "def buchi_fimdp(mdp, capacity, targets):\n",
    "    solver = BasicES(mdp, capacity, targets)\n",
    "    fimdp_res = solver.compute(BUCHI)"
   ]
  },
  {
   "cell_type": "code",
   "execution_count": 11,
   "metadata": {},
   "outputs": [],
   "source": [
    "def create_gw(size, capacity):\n",
    "\n",
    "    constants = {\n",
    "        \"size_x\" : size,\n",
    "        \"size_y\" : size,\n",
    "        \"capacity\" : capacity,\n",
    "        \"cons_w_ex\" : 0,\n",
    "        \"cons_s_ex\" : 0,\n",
    "        \"targets\" : [13,2],\n",
    "        \"reloads\" : [15,3],\n",
    "    }\n",
    "\n",
    "    env = UUVEnv.SingleAgentEnv([constants[\"size_x\"], constants[\"size_y\"]], constants[\"capacity\"], constants[\"targets\"], constants[\"reloads\"])\n",
    "    return env.consmdp, set(constants[\"targets\"])"
   ]
  },
  {
   "cell_type": "code",
   "execution_count": 12,
   "metadata": {},
   "outputs": [],
   "source": [
    "def benchmark_on_gw(size_range, cap_range):\n",
    "    df = pd.DataFrame(columns=[\"size\", \"capacity\", \"cmdp_size\", \"mdp_size\", \"fimdp_time\", \"storm_time\"])\n",
    "\n",
    "    for size in size_range:\n",
    "        for capacity in cap_range:\n",
    "            cap = int(capacity*size)\n",
    "            print(f\"size={size} and capacity={cap}\")\n",
    "            res = {\n",
    "                \"size\": size,\n",
    "                \"capacity\": cap,\n",
    "            }\n",
    "\n",
    "            mdp, targets = create_gw(size, cap)\n",
    "            res[\"cmdp_size\"] = mdp.num_states\n",
    "\n",
    "            st_mdp = fi2st.encode_to_stormpy(mdp, cap, targets)\n",
    "            res[\"mdp_size\"] = st_mdp.nr_states\n",
    "\n",
    "            fimdp_time = %timeit -o -q buchi_fimdp(mdp, cap, targets)\n",
    "            res[\"fimdp_time\"] = fimdp_time.average\n",
    "            storm_time = %timeit -o -q buchi_storm(st_mdp)\n",
    "            res[\"storm_time\"] = storm_time.average\n",
    "\n",
    "            df = df.append(res, ignore_index=True)\n",
    "    return df"
   ]
  },
  {
   "cell_type": "markdown",
   "metadata": {},
   "source": [
    "### Generate and store comparison data"
   ]
  },
  {
   "cell_type": "code",
   "execution_count": null,
   "metadata": {},
   "outputs": [],
   "source": [
    "# generate results for various grid sizes and energies\n",
    "results = {}\n",
    "results[\"gs10\"] = benchmark_on_gw([10], [1,2,3,5,10])\n",
    "results[\"gs20\"] = benchmark_on_gw([20], [1,2,3,5,10])\n",
    "results[\"gs50\"] = benchmark_on_gw([50], [1,2,3,5,10])"
   ]
  },
  {
   "cell_type": "code",
   "execution_count": 12,
   "metadata": {},
   "outputs": [],
   "source": [
    "# store the data as csv files\n",
    "for k, v in results.items():\n",
    "    v.to_csv('./data/{}_timedata.csv'.format(k))"
   ]
  },
  {
   "cell_type": "markdown",
   "metadata": {},
   "source": [
    "We measure the time FiMDP needs to analyze such CMDPs and to synthesize the corresponding strategy for the\n",
    "given Büchi objective. We also transform the CMDP into the equivalent MDP with the energy constraints encoded in states and actions. We then measure the time that Stormpy needs to finish stormpy.model checking(mdp, prop) for\n",
    "this MDP and the qualitative Büchi property expressed in PCTL [1] as: prop = ’Pmax>=1 [G Pmax>=1 [F \"target\" & Pmax>=1 [F \"reload\"]]]’. \n",
    "\n",
    "We perform experiments for different grid sizes and energy levels in the UUV environment. The results from the experiment are shown below."
   ]
  },
  {
   "cell_type": "markdown",
   "metadata": {},
   "source": [
    "### Load and plot comparison data"
   ]
  },
  {
   "cell_type": "code",
   "execution_count": 37,
   "metadata": {},
   "outputs": [],
   "source": [
    "# load the data\n",
    "df_gs10 = pd.read_csv('./data/gs10_timedata.csv')\n",
    "df_gs20 = pd.read_csv('./data/gs20_timedata.csv')\n",
    "df_gs50 = pd.read_csv('./data/gs50_timedata.csv')"
   ]
  },
  {
   "cell_type": "code",
   "execution_count": 69,
   "metadata": {},
   "outputs": [
    {
     "data": {
      "image/png": "[encoded data removed]",
      "text/plain": [
       "<Figure size 432x288 with 1 Axes>"
      ]
     },
     "metadata": {
      "needs_background": "light"
     },
     "output_type": "display_data"
    }
   ],
   "source": [
    "# plot grid-size 10 data\n",
    "df = df_gs10.melt(id_vars=['capacity'], value_vars=['fimdp_time', 'storm_time'])\n",
    "sns.scatterplot(x='capacity', y='value', hue='variable', data=df)\n",
    "plt.ylabel('time (sec)')\n",
    "plt.title('Grid Size 10')\n",
    "plt.show()"
   ]
  },
  {
   "cell_type": "code",
   "execution_count": 70,
   "metadata": {},
   "outputs": [
    {
     "data": {
      "image/png": "[encoded data removed]",
      "text/plain": [
       "<Figure size 432x288 with 1 Axes>"
      ]
     },
     "metadata": {
      "needs_background": "light"
     },
     "output_type": "display_data"
    }
   ],
   "source": [
    "#plto grid-size 20 data\n",
    "df = df_gs20.melt(id_vars=['capacity'], value_vars=['fimdp_time', 'storm_time'])\n",
    "sns.scatterplot(x='capacity', y='value', hue='variable', data=df)\n",
    "plt.ylabel('time (sec)')\n",
    "plt.title('Grid Size 20')\n",
    "plt.show()"
   ]
  },
  {
   "cell_type": "code",
   "execution_count": 72,
   "metadata": {},
   "outputs": [
    {
     "data": {
      "image/png": "[encoded data removed]",
      "text/plain": [
       "<Figure size 432x288 with 1 Axes>"
      ]
     },
     "metadata": {
      "needs_background": "light"
     },
     "output_type": "display_data"
    }
   ],
   "source": [
    "# plot grid-size 50 data\n",
    "df = df_gs50.melt(id_vars=['capacity'], value_vars=['fimdp_time', 'storm_time'])\n",
    "sns.scatterplot(x='capacity', y='value', hue='variable', data=df)\n",
    "plt.ylabel('time (sec)')\n",
    "plt.title('Grid Size 50')\n",
    "plt.show()"
   ]
  }
 ],
 "metadata": {
  "kernelspec": {
   "display_name": "Python 3",
   "language": "python",
   "name": "python3"
  },
  "language_info": {
   "codemirror_mode": {
    "name": "ipython",
    "version": 3
   },
   "file_extension": ".py",
   "mimetype": "text/x-python",
   "name": "python",
   "nbconvert_exporter": "python",
   "pygments_lexer": "ipython3",
   "version": "3.7.8"
  }
 },
 "nbformat": 4,
 "nbformat_minor": 4
}
