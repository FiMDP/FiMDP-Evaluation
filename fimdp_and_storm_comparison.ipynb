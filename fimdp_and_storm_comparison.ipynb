{
 "cells": [
  {
   "cell_type": "markdown",
   "metadata": {},
   "source": [
    "## Comparison: FiMDP vs STORM"
   ]
  },
  {
   "cell_type": "code",
   "execution_count": 2,
   "metadata": {},
   "outputs": [],
   "source": [
    "import fimdp\n",
    "import fimdpenv\n",
    "import fimdpenv.UUVEnv as UUVEnv\n",
    "fimdpenv.setup()\n",
    "import stormpy\n",
    "import pandas as pd\n",
    "from fimdp import io as fi2st\n",
    "from fimdp.objectives import AS_REACH, BUCHI\n",
    "from fimdp.energy_solvers import BasicES"
   ]
  },
  {
   "cell_type": "markdown",
   "metadata": {},
   "source": [
    "This notebook compares the performance of FiMDP with Storm, anopen-source, state-of-the-art probablistic model checker designed to be efficient in terms of time and memory. We use instances of the UUV Environment to perform experiments. All computations presented below were performed on a PC with Intel Core i7-8700 3.20GHz 12 core processor and a RAM of 16 GB running Ubuntu 18.04 LTS. We start with defining some functions to help us perform the comparison."
   ]
  },
  {
   "cell_type": "code",
   "execution_count": 3,
   "metadata": {},
   "outputs": [],
   "source": [
    "def buchi_storm(storm_mdp):\n",
    "    formula = 'Pmax>=1 [G Pmax>=1 [F \"target\" & Pmax>=1 [F \"reload\"]]]'\n",
    "    prop = stormpy.parse_properties(formula)\n",
    "    \n",
    "    return stormpy.model_checking(storm_mdp, prop[0])"
   ]
  },
  {
   "cell_type": "code",
   "execution_count": 4,
   "metadata": {},
   "outputs": [],
   "source": [
    "def buchi_fimdp(mdp, capacity, targets):\n",
    "    solver = BasicES(mdp, capacity, targets)\n",
    "    fimdp_res = solver.compute(BUCHI)"
   ]
  },
  {
   "cell_type": "code",
   "execution_count": 5,
   "metadata": {},
   "outputs": [],
   "source": [
    "def create_gw(size, capacity):\n",
    "\n",
    "    constants = {\n",
    "        \"size_x\" : size,\n",
    "        \"size_y\" : size,\n",
    "        \"capacity\" : capacity,\n",
    "        \"cons_w_ex\" : 0,\n",
    "        \"cons_s_ex\" : 0,\n",
    "        \"targets\" : [13,2],\n",
    "        \"reloads\" : [15,3],\n",
    "    }\n",
    "\n",
    "    env = UUVEnv.SingleAgentEnv([constants[\"size_x\"], constants[\"size_y\"]], constants[\"capacity\"], constants[\"targets\"], constants[\"reloads\"])\n",
    "    return env.consmdp, set(constants[\"targets\"])"
   ]
  },
  {
   "cell_type": "code",
   "execution_count": 6,
   "metadata": {},
   "outputs": [],
   "source": [
    "def benchmark_on_gw(size_range, cap_range):\n",
    "    df = pd.DataFrame(columns=[\"size\", \"capacity\", \"cmdp_size\", \"mdp_size\", \"fimdp_time\", \"storm_time\"])\n",
    "\n",
    "    for size in size_range:\n",
    "        for capacity in cap_range:\n",
    "            cap = int(capacity*size)\n",
    "            print(f\"size={size} and capacity={cap}\")\n",
    "            res = {\n",
    "                \"size\": size,\n",
    "                \"capacity\": cap,\n",
    "            }\n",
    "\n",
    "            mdp, targets = create_gw(size, cap)\n",
    "            res[\"cmdp_size\"] = mdp.num_states\n",
    "\n",
    "            st_mdp = fi2st.encode_to_stormpy(mdp, cap, targets)\n",
    "            res[\"mdp_size\"] = st_mdp.nr_states\n",
    "\n",
    "            fimdp_time = %timeit -o -q buchi_fimdp(mdp, cap, targets)\n",
    "            res[\"fimdp_time\"] = fimdp_time.average\n",
    "            storm_time = %timeit -o -q buchi_storm(st_mdp)\n",
    "            res[\"storm_time\"] = storm_time.average\n",
    "\n",
    "            df = df.append(res, ignore_index=True)\n",
    "    return df"
   ]
  },
  {
   "cell_type": "code",
   "execution_count": 7,
   "metadata": {},
   "outputs": [],
   "source": [
    "results = {}"
   ]
  },
  {
   "cell_type": "code",
   "execution_count": 8,
   "metadata": {},
   "outputs": [
    {
     "name": "stdout",
     "output_type": "stream",
     "text": [
      "size=10 and capacity=10\n",
      "size=10 and capacity=20\n",
      "size=10 and capacity=30\n",
      "size=10 and capacity=50\n",
      "size=20 and capacity=20\n",
      "size=20 and capacity=40\n",
      "size=20 and capacity=60\n",
      "size=20 and capacity=100\n",
      "size=50 and capacity=50\n",
      "size=50 and capacity=100\n",
      "size=50 and capacity=150\n",
      "size=50 and capacity=250\n"
     ]
    }
   ],
   "source": [
    "results = {}\n",
    "results[\"test\"] = benchmark_on_gw([10,20,50], [1,2,3,5])"
   ]
  },
  {
   "cell_type": "markdown",
   "metadata": {},
   "source": [
    "We measure the time FiMDP needs to analyze such CMDPs and to synthesize the corresponding strategy for the\n",
    "given Büchi objective. We also transform the CMDP into the equivalent MDP with the energy constraints encoded in states and actions. We then measure the time that Stormpy needs to finish stormpy.model checking(mdp, prop) for\n",
    "this MDP and the qualitative Büchi property expressed in PCTL [1] as: prop = ’Pmax>=1 [G Pmax>=1 [F \"target\" & Pmax>=1 [F \"reload\"]]]’. \n",
    "\n",
    "We perform experiments for different grid sizes and energy levels in the UUV environment. The results from the experiment are tabulated below."
   ]
  },
  {
   "cell_type": "code",
   "execution_count": 9,
   "metadata": {},
   "outputs": [
    {
     "data": {
      "text/html": [
       "<div>\n",
       "<style scoped>\n",
       "    .dataframe tbody tr th:only-of-type {\n",
       "        vertical-align: middle;\n",
       "    }\n",
       "\n",
       "    .dataframe tbody tr th {\n",
       "        vertical-align: top;\n",
       "    }\n",
       "\n",
       "    .dataframe thead th {\n",
       "        text-align: right;\n",
       "    }\n",
       "</style>\n",
       "<table border=\"1\" class=\"dataframe\">\n",
       "  <thead>\n",
       "    <tr style=\"text-align: right;\">\n",
       "      <th></th>\n",
       "      <th>size</th>\n",
       "      <th>capacity</th>\n",
       "      <th>cmdp_size</th>\n",
       "      <th>mdp_size</th>\n",
       "      <th>fimdp_time</th>\n",
       "      <th>storm_time</th>\n",
       "    </tr>\n",
       "  </thead>\n",
       "  <tbody>\n",
       "    <tr>\n",
       "      <th>0</th>\n",
       "      <td>10.0</td>\n",
       "      <td>10.0</td>\n",
       "      <td>100.0</td>\n",
       "      <td>1081.0</td>\n",
       "      <td>0.008787</td>\n",
       "      <td>0.002528</td>\n",
       "    </tr>\n",
       "    <tr>\n",
       "      <th>1</th>\n",
       "      <td>10.0</td>\n",
       "      <td>20.0</td>\n",
       "      <td>100.0</td>\n",
       "      <td>2061.0</td>\n",
       "      <td>0.011714</td>\n",
       "      <td>0.006915</td>\n",
       "    </tr>\n",
       "    <tr>\n",
       "      <th>2</th>\n",
       "      <td>10.0</td>\n",
       "      <td>30.0</td>\n",
       "      <td>100.0</td>\n",
       "      <td>3041.0</td>\n",
       "      <td>0.011745</td>\n",
       "      <td>0.010829</td>\n",
       "    </tr>\n",
       "    <tr>\n",
       "      <th>3</th>\n",
       "      <td>10.0</td>\n",
       "      <td>50.0</td>\n",
       "      <td>100.0</td>\n",
       "      <td>5001.0</td>\n",
       "      <td>0.011769</td>\n",
       "      <td>0.018760</td>\n",
       "    </tr>\n",
       "    <tr>\n",
       "      <th>4</th>\n",
       "      <td>20.0</td>\n",
       "      <td>20.0</td>\n",
       "      <td>400.0</td>\n",
       "      <td>8361.0</td>\n",
       "      <td>0.076149</td>\n",
       "      <td>0.020682</td>\n",
       "    </tr>\n",
       "    <tr>\n",
       "      <th>5</th>\n",
       "      <td>20.0</td>\n",
       "      <td>40.0</td>\n",
       "      <td>400.0</td>\n",
       "      <td>16321.0</td>\n",
       "      <td>0.128594</td>\n",
       "      <td>0.082879</td>\n",
       "    </tr>\n",
       "    <tr>\n",
       "      <th>6</th>\n",
       "      <td>20.0</td>\n",
       "      <td>60.0</td>\n",
       "      <td>400.0</td>\n",
       "      <td>24281.0</td>\n",
       "      <td>0.127048</td>\n",
       "      <td>0.138491</td>\n",
       "    </tr>\n",
       "    <tr>\n",
       "      <th>7</th>\n",
       "      <td>20.0</td>\n",
       "      <td>100.0</td>\n",
       "      <td>400.0</td>\n",
       "      <td>40201.0</td>\n",
       "      <td>0.131284</td>\n",
       "      <td>0.280426</td>\n",
       "    </tr>\n",
       "    <tr>\n",
       "      <th>8</th>\n",
       "      <td>50.0</td>\n",
       "      <td>50.0</td>\n",
       "      <td>2500.0</td>\n",
       "      <td>127401.0</td>\n",
       "      <td>0.515026</td>\n",
       "      <td>0.462841</td>\n",
       "    </tr>\n",
       "    <tr>\n",
       "      <th>9</th>\n",
       "      <td>50.0</td>\n",
       "      <td>100.0</td>\n",
       "      <td>2500.0</td>\n",
       "      <td>252301.0</td>\n",
       "      <td>1.196193</td>\n",
       "      <td>1.996330</td>\n",
       "    </tr>\n",
       "    <tr>\n",
       "      <th>10</th>\n",
       "      <td>50.0</td>\n",
       "      <td>150.0</td>\n",
       "      <td>2500.0</td>\n",
       "      <td>377201.0</td>\n",
       "      <td>1.296254</td>\n",
       "      <td>3.778927</td>\n",
       "    </tr>\n",
       "    <tr>\n",
       "      <th>11</th>\n",
       "      <td>50.0</td>\n",
       "      <td>250.0</td>\n",
       "      <td>2500.0</td>\n",
       "      <td>627001.0</td>\n",
       "      <td>1.267249</td>\n",
       "      <td>6.888309</td>\n",
       "    </tr>\n",
       "  </tbody>\n",
       "</table>\n",
       "</div>"
      ],
      "text/plain": [
       "    size  capacity  cmdp_size  mdp_size  fimdp_time  storm_time\n",
       "0   10.0      10.0      100.0    1081.0    0.008787    0.002528\n",
       "1   10.0      20.0      100.0    2061.0    0.011714    0.006915\n",
       "2   10.0      30.0      100.0    3041.0    0.011745    0.010829\n",
       "3   10.0      50.0      100.0    5001.0    0.011769    0.018760\n",
       "4   20.0      20.0      400.0    8361.0    0.076149    0.020682\n",
       "5   20.0      40.0      400.0   16321.0    0.128594    0.082879\n",
       "6   20.0      60.0      400.0   24281.0    0.127048    0.138491\n",
       "7   20.0     100.0      400.0   40201.0    0.131284    0.280426\n",
       "8   50.0      50.0     2500.0  127401.0    0.515026    0.462841\n",
       "9   50.0     100.0     2500.0  252301.0    1.196193    1.996330\n",
       "10  50.0     150.0     2500.0  377201.0    1.296254    3.778927\n",
       "11  50.0     250.0     2500.0  627001.0    1.267249    6.888309"
      ]
     },
     "execution_count": 9,
     "metadata": {},
     "output_type": "execute_result"
    }
   ],
   "source": [
    "df = results[\"test\"]\n",
    "df"
   ]
  },
  {
   "cell_type": "code",
   "execution_count": 24,
   "metadata": {},
   "outputs": [],
   "source": [
    "df.to_csv('gs_timedata.csv')"
   ]
  },
  {
   "cell_type": "code",
   "execution_count": 11,
   "metadata": {},
   "outputs": [
    {
     "data": {
      "text/html": [
       "<div>\n",
       "<style scoped>\n",
       "    .dataframe tbody tr th:only-of-type {\n",
       "        vertical-align: middle;\n",
       "    }\n",
       "\n",
       "    .dataframe tbody tr th {\n",
       "        vertical-align: top;\n",
       "    }\n",
       "\n",
       "    .dataframe thead th {\n",
       "        text-align: right;\n",
       "    }\n",
       "</style>\n",
       "<table border=\"1\" class=\"dataframe\">\n",
       "  <thead>\n",
       "    <tr style=\"text-align: right;\">\n",
       "      <th></th>\n",
       "      <th></th>\n",
       "      <th>cmdp_size</th>\n",
       "      <th>mdp_size</th>\n",
       "      <th>fimdp_time</th>\n",
       "      <th>storm_time</th>\n",
       "    </tr>\n",
       "    <tr>\n",
       "      <th>size</th>\n",
       "      <th>capacity</th>\n",
       "      <th></th>\n",
       "      <th></th>\n",
       "      <th></th>\n",
       "      <th></th>\n",
       "    </tr>\n",
       "  </thead>\n",
       "  <tbody>\n",
       "    <tr>\n",
       "      <th rowspan=\"4\" valign=\"top\">10.0</th>\n",
       "      <th>10.0</th>\n",
       "      <td>100.0</td>\n",
       "      <td>1081.0</td>\n",
       "      <td>0.0</td>\n",
       "      <td>0.0</td>\n",
       "    </tr>\n",
       "    <tr>\n",
       "      <th>20.0</th>\n",
       "      <td>100.0</td>\n",
       "      <td>2061.0</td>\n",
       "      <td>0.0</td>\n",
       "      <td>0.0</td>\n",
       "    </tr>\n",
       "    <tr>\n",
       "      <th>30.0</th>\n",
       "      <td>100.0</td>\n",
       "      <td>3041.0</td>\n",
       "      <td>0.0</td>\n",
       "      <td>0.0</td>\n",
       "    </tr>\n",
       "    <tr>\n",
       "      <th>50.0</th>\n",
       "      <td>100.0</td>\n",
       "      <td>5001.0</td>\n",
       "      <td>0.0</td>\n",
       "      <td>0.0</td>\n",
       "    </tr>\n",
       "    <tr>\n",
       "      <th rowspan=\"4\" valign=\"top\">20.0</th>\n",
       "      <th>20.0</th>\n",
       "      <td>400.0</td>\n",
       "      <td>8361.0</td>\n",
       "      <td>0.1</td>\n",
       "      <td>0.0</td>\n",
       "    </tr>\n",
       "    <tr>\n",
       "      <th>40.0</th>\n",
       "      <td>400.0</td>\n",
       "      <td>16321.0</td>\n",
       "      <td>0.1</td>\n",
       "      <td>0.1</td>\n",
       "    </tr>\n",
       "    <tr>\n",
       "      <th>60.0</th>\n",
       "      <td>400.0</td>\n",
       "      <td>24281.0</td>\n",
       "      <td>0.1</td>\n",
       "      <td>0.1</td>\n",
       "    </tr>\n",
       "    <tr>\n",
       "      <th>100.0</th>\n",
       "      <td>400.0</td>\n",
       "      <td>40201.0</td>\n",
       "      <td>0.1</td>\n",
       "      <td>0.3</td>\n",
       "    </tr>\n",
       "    <tr>\n",
       "      <th rowspan=\"4\" valign=\"top\">50.0</th>\n",
       "      <th>50.0</th>\n",
       "      <td>2500.0</td>\n",
       "      <td>127401.0</td>\n",
       "      <td>0.5</td>\n",
       "      <td>0.5</td>\n",
       "    </tr>\n",
       "    <tr>\n",
       "      <th>100.0</th>\n",
       "      <td>2500.0</td>\n",
       "      <td>252301.0</td>\n",
       "      <td>1.2</td>\n",
       "      <td>2.0</td>\n",
       "    </tr>\n",
       "    <tr>\n",
       "      <th>150.0</th>\n",
       "      <td>2500.0</td>\n",
       "      <td>377201.0</td>\n",
       "      <td>1.3</td>\n",
       "      <td>3.8</td>\n",
       "    </tr>\n",
       "    <tr>\n",
       "      <th>250.0</th>\n",
       "      <td>2500.0</td>\n",
       "      <td>627001.0</td>\n",
       "      <td>1.3</td>\n",
       "      <td>6.9</td>\n",
       "    </tr>\n",
       "  </tbody>\n",
       "</table>\n",
       "</div>"
      ],
      "text/plain": [
       "               cmdp_size  mdp_size  fimdp_time  storm_time\n",
       "size capacity                                             \n",
       "10.0 10.0          100.0    1081.0         0.0         0.0\n",
       "     20.0          100.0    2061.0         0.0         0.0\n",
       "     30.0          100.0    3041.0         0.0         0.0\n",
       "     50.0          100.0    5001.0         0.0         0.0\n",
       "20.0 20.0          400.0    8361.0         0.1         0.0\n",
       "     40.0          400.0   16321.0         0.1         0.1\n",
       "     60.0          400.0   24281.0         0.1         0.1\n",
       "     100.0         400.0   40201.0         0.1         0.3\n",
       "50.0 50.0         2500.0  127401.0         0.5         0.5\n",
       "     100.0        2500.0  252301.0         1.2         2.0\n",
       "     150.0        2500.0  377201.0         1.3         3.8\n",
       "     250.0        2500.0  627001.0         1.3         6.9"
      ]
     },
     "execution_count": 11,
     "metadata": {},
     "output_type": "execute_result"
    }
   ],
   "source": [
    "df.set_index([\"size\",\"capacity\"]).round(1)"
   ]
  },
  {
   "cell_type": "code",
   "execution_count": 12,
   "metadata": {},
   "outputs": [
    {
     "data": {
      "text/plain": [
       "<AxesSubplot:xlabel='storm_time', ylabel='fimdp_time'>"
      ]
     },
     "execution_count": 12,
     "metadata": {},
     "output_type": "execute_result"
    },
    {
     "data": {
      "image/png": "[encoded data removed]",
      "text/plain": [
       "<Figure size 432x288 with 1 Axes>"
      ]
     },
     "metadata": {
      "needs_background": "light"
     },
     "output_type": "display_data"
    }
   ],
   "source": [
    "df.plot(\"storm_time\", \"fimdp_time\", kind=\"scatter\")"
   ]
  },
  {
   "cell_type": "code",
   "execution_count": null,
   "metadata": {},
   "outputs": [],
   "source": []
  }
 ],
 "metadata": {
  "kernelspec": {
   "display_name": "Python 3",
   "language": "python",
   "name": "python3"
  },
  "language_info": {
   "codemirror_mode": {
    "name": "ipython",
    "version": 3
   },
   "file_extension": ".py",
   "mimetype": "text/x-python",
   "name": "python",
   "nbconvert_exporter": "python",
   "pygments_lexer": "ipython3",
   "version": "3.7.8"
  }
 },
 "nbformat": 4,
 "nbformat_minor": 4
}
