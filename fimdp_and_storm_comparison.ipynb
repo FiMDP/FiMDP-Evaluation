{
 "cells": [
  {
   "cell_type": "code",
   "execution_count": 1,
   "metadata": {},
   "outputs": [],
   "source": [
    "import fimdp\n",
    "import fimdpenv\n",
    "import fimdpenv.UUVEnv as UUVEnv\n",
    "fimdpenv.setup()\n",
    "from fimdp import io as fi2st\n",
    "from fimdp.objectives import AS_REACH, BUCHI\n",
    "from fimdp.energy_solvers import BasicES\n",
    "\n",
    "import stormpy\n",
    "\n",
    "import pandas as pd"
   ]
  },
  {
   "cell_type": "code",
   "execution_count": 2,
   "metadata": {},
   "outputs": [],
   "source": [
    "def buchi_storm(storm_mdp):\n",
    "    formula = 'Pmax>=1 [G Pmax>=1 [F \"target\" & Pmax>=1 [F \"reload\"]]]'\n",
    "    prop = stormpy.parse_properties(formula)\n",
    "    \n",
    "    return stormpy.model_checking(storm_mdp, prop[0])"
   ]
  },
  {
   "cell_type": "code",
   "execution_count": 3,
   "metadata": {},
   "outputs": [],
   "source": [
    "def buchi_fimdp(mdp, capacity, targets):\n",
    "    solver = BasicES(mdp, capacity, targets)\n",
    "    fimdp_res = solver.compute(BUCHI)"
   ]
  },
  {
   "cell_type": "code",
   "execution_count": 10,
   "metadata": {},
   "outputs": [],
   "source": [
    "def create_gw(size, capacity):\n",
    "\n",
    "    constants = {\n",
    "        \"size_x\" : size,\n",
    "        \"size_y\" : size,\n",
    "        \"capacity\" : capacity,\n",
    "        \"cons_w_ex\" : 0,\n",
    "        \"cons_s_ex\" : 0,\n",
    "        \"targets\" : [13,2],\n",
    "        \"reloads\" : [15,3],\n",
    "    }\n",
    "\n",
    "    env = UUVEnv.SingleAgentEnv([constants[\"size_x\"], constants[\"size_y\"]], constants[\"capacity\"], constants[\"targets\"], constants[\"reloads\"])\n",
    "    return env.consmdp, set(constants[\"targets\"])"
   ]
  },
  {
   "cell_type": "code",
   "execution_count": 5,
   "metadata": {},
   "outputs": [],
   "source": [
    "def benchmark_on_gw(size_range, cap_range):\n",
    "    df = pd.DataFrame(columns=[\"size\", \"capacity\", \"cmdp_size\", \"mdp_size\", \"fimdp_time\", \"storm_time\"])\n",
    "\n",
    "    for size in size_range:\n",
    "        for capacity in cap_range:\n",
    "            cap = int(capacity*size)\n",
    "            print(f\"size={size} and capacity={cap}\")\n",
    "            res = {\n",
    "                \"size\": size,\n",
    "                \"capacity\": cap,\n",
    "            }\n",
    "\n",
    "            mdp, targets = create_gw(size, cap)\n",
    "            res[\"cmdp_size\"] = mdp.num_states\n",
    "\n",
    "            st_mdp = fi2st.encode_to_stormpy(mdp, cap, targets)\n",
    "            res[\"mdp_size\"] = st_mdp.nr_states\n",
    "\n",
    "            fimdp_time = %timeit -o -q buchi_fimdp(mdp, cap, targets)\n",
    "            res[\"fimdp_time\"] = fimdp_time.average\n",
    "            storm_time = %timeit -o -q buchi_storm(st_mdp)\n",
    "            res[\"storm_time\"] = storm_time.average\n",
    "\n",
    "            df = df.append(res, ignore_index=True)\n",
    "    return df"
   ]
  },
  {
   "cell_type": "code",
   "execution_count": 6,
   "metadata": {},
   "outputs": [],
   "source": [
    "results = {}"
   ]
  },
  {
   "cell_type": "code",
   "execution_count": 15,
   "metadata": {},
   "outputs": [
    {
     "name": "stdout",
     "output_type": "stream",
     "text": [
      "size=4 and capacity=4\n",
      "size=4 and capacity=8\n"
     ]
    }
   ],
   "source": [
    "results = {}\n",
    "results[\"test\"] = benchmark_on_gw([4], [1, 2])"
   ]
  },
  {
   "cell_type": "code",
   "execution_count": 23,
   "metadata": {},
   "outputs": [
    {
     "data": {
      "text/html": [
       "<div>\n",
       "<style scoped>\n",
       "    .dataframe tbody tr th:only-of-type {\n",
       "        vertical-align: middle;\n",
       "    }\n",
       "\n",
       "    .dataframe tbody tr th {\n",
       "        vertical-align: top;\n",
       "    }\n",
       "\n",
       "    .dataframe thead th {\n",
       "        text-align: right;\n",
       "    }\n",
       "</style>\n",
       "<table border=\"1\" class=\"dataframe\">\n",
       "  <thead>\n",
       "    <tr style=\"text-align: right;\">\n",
       "      <th></th>\n",
       "      <th>size</th>\n",
       "      <th>capacity</th>\n",
       "      <th>cmdp_size</th>\n",
       "      <th>mdp_size</th>\n",
       "      <th>fimdp_time</th>\n",
       "      <th>storm_time</th>\n",
       "    </tr>\n",
       "  </thead>\n",
       "  <tbody>\n",
       "    <tr>\n",
       "      <th>0</th>\n",
       "      <td>4.0</td>\n",
       "      <td>4.0</td>\n",
       "      <td>16.0</td>\n",
       "      <td>73.0</td>\n",
       "      <td>0.001092</td>\n",
       "      <td>0.000563</td>\n",
       "    </tr>\n",
       "    <tr>\n",
       "      <th>1</th>\n",
       "      <td>4.0</td>\n",
       "      <td>8.0</td>\n",
       "      <td>16.0</td>\n",
       "      <td>129.0</td>\n",
       "      <td>0.001085</td>\n",
       "      <td>0.000674</td>\n",
       "    </tr>\n",
       "  </tbody>\n",
       "</table>\n",
       "</div>"
      ],
      "text/plain": [
       "   size  capacity  cmdp_size  mdp_size  fimdp_time  storm_time\n",
       "0   4.0       4.0       16.0      73.0    0.001092    0.000563\n",
       "1   4.0       8.0       16.0     129.0    0.001085    0.000674"
      ]
     },
     "execution_count": 23,
     "metadata": {},
     "output_type": "execute_result"
    }
   ],
   "source": [
    "df = results[\"test\"]\n",
    "df"
   ]
  },
  {
   "cell_type": "code",
   "execution_count": 24,
   "metadata": {},
   "outputs": [],
   "source": [
    "df.to_csv('./gs4_timedata.csv')"
   ]
  },
  {
   "cell_type": "code",
   "execution_count": 25,
   "metadata": {},
   "outputs": [
    {
     "data": {
      "text/plain": [
       "<AxesSubplot:xlabel='storm_time', ylabel='fimdp_time'>"
      ]
     },
     "execution_count": 25,
     "metadata": {},
     "output_type": "execute_result"
    },
    {
     "data": {
      "image/png": "[encoded data removed]",
      "text/plain": [
       "<Figure size 432x288 with 1 Axes>"
      ]
     },
     "metadata": {
      "needs_background": "light"
     },
     "output_type": "display_data"
    }
   ],
   "source": [
    "df.set_index([\"size\",\"capacity\"]).plot(\"storm_time\", \"fimdp_time\", kind=\"scatter\")"
   ]
  },
  {
   "cell_type": "code",
   "execution_count": 26,
   "metadata": {},
   "outputs": [
    {
     "data": {
      "text/html": [
       "<div>\n",
       "<style scoped>\n",
       "    .dataframe tbody tr th:only-of-type {\n",
       "        vertical-align: middle;\n",
       "    }\n",
       "\n",
       "    .dataframe tbody tr th {\n",
       "        vertical-align: top;\n",
       "    }\n",
       "\n",
       "    .dataframe thead th {\n",
       "        text-align: right;\n",
       "    }\n",
       "</style>\n",
       "<table border=\"1\" class=\"dataframe\">\n",
       "  <thead>\n",
       "    <tr style=\"text-align: right;\">\n",
       "      <th></th>\n",
       "      <th></th>\n",
       "      <th>cmdp_size</th>\n",
       "      <th>mdp_size</th>\n",
       "      <th>fimdp_time</th>\n",
       "      <th>storm_time</th>\n",
       "    </tr>\n",
       "    <tr>\n",
       "      <th>size</th>\n",
       "      <th>capacity</th>\n",
       "      <th></th>\n",
       "      <th></th>\n",
       "      <th></th>\n",
       "      <th></th>\n",
       "    </tr>\n",
       "  </thead>\n",
       "  <tbody>\n",
       "    <tr>\n",
       "      <th rowspan=\"2\" valign=\"top\">4.0</th>\n",
       "      <th>4.0</th>\n",
       "      <td>16.0</td>\n",
       "      <td>73.0</td>\n",
       "      <td>0.0</td>\n",
       "      <td>0.0</td>\n",
       "    </tr>\n",
       "    <tr>\n",
       "      <th>8.0</th>\n",
       "      <td>16.0</td>\n",
       "      <td>129.0</td>\n",
       "      <td>0.0</td>\n",
       "      <td>0.0</td>\n",
       "    </tr>\n",
       "  </tbody>\n",
       "</table>\n",
       "</div>"
      ],
      "text/plain": [
       "               cmdp_size  mdp_size  fimdp_time  storm_time\n",
       "size capacity                                             \n",
       "4.0  4.0            16.0      73.0         0.0         0.0\n",
       "     8.0            16.0     129.0         0.0         0.0"
      ]
     },
     "execution_count": 26,
     "metadata": {},
     "output_type": "execute_result"
    }
   ],
   "source": [
    "df.set_index([\"size\",\"capacity\"]).round(1)"
   ]
  },
  {
   "cell_type": "code",
   "execution_count": 27,
   "metadata": {},
   "outputs": [
    {
     "data": {
      "text/plain": [
       "<AxesSubplot:xlabel='storm_time', ylabel='fimdp_time'>"
      ]
     },
     "execution_count": 27,
     "metadata": {},
     "output_type": "execute_result"
    },
    {
     "data": {
      "image/png": "[encoded data removed]",
      "text/plain": [
       "<Figure size 432x288 with 1 Axes>"
      ]
     },
     "metadata": {
      "needs_background": "light"
     },
     "output_type": "display_data"
    }
   ],
   "source": [
    "df.plot(\"storm_time\", \"fimdp_time\", kind=\"scatter\")"
   ]
  },
  {
   "cell_type": "code",
   "execution_count": null,
   "metadata": {},
   "outputs": [],
   "source": []
  }
 ],
 "metadata": {
  "kernelspec": {
   "display_name": "Python 3",
   "language": "python",
   "name": "python3"
  },
  "language_info": {
   "codemirror_mode": {
    "name": "ipython",
    "version": 3
   },
   "file_extension": ".py",
   "mimetype": "text/x-python",
   "name": "python",
   "nbconvert_exporter": "python",
   "pygments_lexer": "ipython3",
   "version": "3.7.8"
  }
 },
 "nbformat": 4,
 "nbformat_minor": 4
}
