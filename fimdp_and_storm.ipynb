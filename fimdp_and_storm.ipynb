{
 "cells": [
  {
   "cell_type": "code",
   "execution_count": 1,
   "metadata": {},
   "outputs": [],
   "source": [
    "import fimdp\n",
    "fimdp.setup()\n",
    "from fimdp import io as fi2st\n",
    "from fimdp.objectives import AS_REACH, BUCHI\n",
    "from fimdp.energy_solvers import BasicES\n",
    "\n",
    "import stormpy\n",
    "\n",
    "import pandas as pd"
   ]
  },
  {
   "cell_type": "code",
   "execution_count": 2,
   "metadata": {},
   "outputs": [],
   "source": [
    "def buchi_storm(storm_mdp):\n",
    "    formula = 'Pmax>=1 [G Pmax>=1 [F \"target\" & Pmax>=1 [F \"reload\"]]]'\n",
    "    prop = stormpy.parse_properties(formula)\n",
    "    \n",
    "    return stormpy.model_checking(storm_mdp, prop[0])"
   ]
  },
  {
   "cell_type": "code",
   "execution_count": 3,
   "metadata": {},
   "outputs": [],
   "source": [
    "def buchi_fimdp(mdp, capacity, targets):\n",
    "    solver = BasicES(mdp, capacity, targets)\n",
    "    fimdp_res = solver.compute(BUCHI)"
   ]
  },
  {
   "cell_type": "code",
   "execution_count": 4,
   "metadata": {},
   "outputs": [],
   "source": [
    "def create_gw(size, capacity):\n",
    "\n",
    "    constants = {\n",
    "        \"size_x\" : size,\n",
    "        \"size_y\" : \"size_x\",\n",
    "        \"capacity\" : capacity,\n",
    "        \"cons_w_ex\" : 0,\n",
    "        \"cons_s_ex\" : 0,\n",
    "    }\n",
    "\n",
    "    return fi2st.prism_to_consmdp(\"../tests/prism_models/gw_param.prism\", constants=constants, return_targets=True)"
   ]
  },
  {
   "cell_type": "code",
   "execution_count": 10,
   "metadata": {},
   "outputs": [],
   "source": [
    "def benchmark_on_gw(size_range, cap_range):\n",
    "    df = pd.DataFrame(columns=[\"size\", \"capacity\", \"cmdp_size\", \"mdp_size\", \"fimdp_time\", \"storm_time\"])\n",
    "\n",
    "    for size in size_range:\n",
    "        for capacity in cap_range:\n",
    "            cap = int(capacity*size)\n",
    "            print(f\"size={size} and capacity={cap}\")\n",
    "            res = {\n",
    "                \"size\": size,\n",
    "                \"capacity\": cap,\n",
    "            }\n",
    "\n",
    "            mdp, targets = create_gw(size, cap)\n",
    "            res[\"cmdp_size\"] = mdp.num_states\n",
    "\n",
    "            st_mdp = fi2st.encode_to_stormpy(mdp, cap, targets)\n",
    "            res[\"mdp_size\"] = st_mdp.nr_states\n",
    "\n",
    "            fimdp_time = %timeit -o -q buchi_fimdp(mdp, cap, targets)\n",
    "            res[\"fimdp_time\"] = fimdp_time.average\n",
    "            storm_time = %timeit -o -q buchi_storm(st_mdp)\n",
    "            res[\"storm_time\"] = storm_time.average\n",
    "\n",
    "            df = df.append(res, ignore_index=True)\n",
    "    return df"
   ]
  },
  {
   "cell_type": "code",
   "execution_count": 11,
   "metadata": {},
   "outputs": [
    {
     "name": "stdout",
     "output_type": "stream",
     "text": [
      "<class 'int'>\n",
      "size=20 and capacity=30\n",
      "<class 'int'>\n",
      "size=20 and capacity=60\n",
      "<class 'int'>\n",
      "size=20 and capacity=100\n",
      "<class 'int'>\n",
      "size=20 and capacity=140\n",
      "<class 'int'>\n",
      "size=25 and capacity=37\n",
      "<class 'int'>\n",
      "size=25 and capacity=75\n",
      "<class 'int'>\n",
      "size=25 and capacity=125\n",
      "<class 'int'>\n",
      "size=25 and capacity=175\n",
      "<class 'int'>\n",
      "size=30 and capacity=45\n",
      "<class 'int'>\n",
      "size=30 and capacity=90\n",
      "<class 'int'>\n",
      "size=30 and capacity=150\n",
      "<class 'int'>\n",
      "size=30 and capacity=210\n",
      "<class 'int'>\n",
      "size=35 and capacity=52\n",
      "<class 'int'>\n",
      "size=35 and capacity=105\n",
      "<class 'int'>\n",
      "size=35 and capacity=175\n",
      "<class 'int'>\n",
      "size=35 and capacity=245\n"
     ]
    }
   ],
   "source": [
    "results = {}\n",
    "results[\"small\"] = benchmark_on_gw(range(20, 40, 5), [1.5, 3, 5, 7])"
   ]
  },
  {
   "cell_type": "code",
   "execution_count": 12,
   "metadata": {},
   "outputs": [
    {
     "data": {
      "text/plain": [
       "{'small':     size  capacity  cmdp_size  mdp_size  fimdp_time  storm_time\n",
       " 0   20.0      30.0      400.0   12311.0    0.135127    0.130298\n",
       " 1   20.0      60.0      400.0   24221.0    0.325324    0.576361\n",
       " 2   20.0     100.0      400.0   40101.0    0.340390    1.058053\n",
       " 3   20.0     140.0      400.0   55981.0    0.307945    1.529513\n",
       " 4   25.0      37.0      625.0   23603.0    0.352567    0.264008\n",
       " 5   25.0      75.0      625.0   47201.0    0.683504    1.193468\n",
       " 6   25.0     125.0      625.0   78251.0    0.667485    2.132290\n",
       " 7   25.0     175.0      625.0  109301.0    0.647047    3.044733\n",
       " 8   30.0      45.0      900.0   41221.0    0.525546    0.562553\n",
       " 9   30.0      90.0      900.0   81541.0    1.082917    2.502661\n",
       " 10  30.0     150.0      900.0  135301.0    1.422985    5.213867\n",
       " 11  30.0     210.0      900.0  189061.0    1.063951    6.530665\n",
       " 12  35.0      52.0     1225.0   64718.0    0.543993    1.085821\n",
       " 13  35.0     105.0     1225.0  129431.0    1.609247    5.670015\n",
       " 14  35.0     175.0     1225.0  214901.0    1.695211   10.666880\n",
       " 15  35.0     245.0     1225.0  300371.0    1.877717   15.303383}"
      ]
     },
     "execution_count": 12,
     "metadata": {},
     "output_type": "execute_result"
    }
   ],
   "source": [
    "results"
   ]
  },
  {
   "cell_type": "code",
   "execution_count": null,
   "metadata": {},
   "outputs": [],
   "source": []
  },
  {
   "cell_type": "code",
   "execution_count": null,
   "metadata": {},
   "outputs": [],
   "source": []
  },
  {
   "cell_type": "code",
   "execution_count": null,
   "metadata": {},
   "outputs": [],
   "source": []
  },
  {
   "cell_type": "code",
   "execution_count": 21,
   "metadata": {},
   "outputs": [
    {
     "data": {
      "text/plain": [
       "<AxesSubplot:xlabel='storm_time', ylabel='fimdp_time'>"
      ]
     },
     "execution_count": 21,
     "metadata": {},
     "output_type": "execute_result"
    },
    {
     "data": {
      "image/png": "[encoded data removed]",
      "text/plain": [
       "<Figure size 432x288 with 1 Axes>"
      ]
     },
     "metadata": {
      "needs_background": "light"
     },
     "output_type": "display_data"
    }
   ],
   "source": [
    "df.set_index([\"size\",\"capacity\"]).loc[30].plot(\"storm_time\", \"fimdp_time\", kind=\"scatter\")"
   ]
  },
  {
   "cell_type": "code",
   "execution_count": 30,
   "metadata": {},
   "outputs": [
    {
     "data": {
      "text/html": [
       "<div>\n",
       "<style scoped>\n",
       "    .dataframe tbody tr th:only-of-type {\n",
       "        vertical-align: middle;\n",
       "    }\n",
       "\n",
       "    .dataframe tbody tr th {\n",
       "        vertical-align: top;\n",
       "    }\n",
       "\n",
       "    .dataframe thead th {\n",
       "        text-align: right;\n",
       "    }\n",
       "</style>\n",
       "<table border=\"1\" class=\"dataframe\">\n",
       "  <thead>\n",
       "    <tr style=\"text-align: right;\">\n",
       "      <th></th>\n",
       "      <th>cmdp_size</th>\n",
       "      <th>mdp_size</th>\n",
       "      <th>fimdp_time</th>\n",
       "      <th>storm_time</th>\n",
       "    </tr>\n",
       "    <tr>\n",
       "      <th>capacity</th>\n",
       "      <th></th>\n",
       "      <th></th>\n",
       "      <th></th>\n",
       "      <th></th>\n",
       "    </tr>\n",
       "  </thead>\n",
       "  <tbody>\n",
       "    <tr>\n",
       "      <th>67.0</th>\n",
       "      <td>2025.0</td>\n",
       "      <td>137366.0</td>\n",
       "      <td>2.2</td>\n",
       "      <td>2.3</td>\n",
       "    </tr>\n",
       "    <tr>\n",
       "      <th>89.0</th>\n",
       "      <td>2025.0</td>\n",
       "      <td>181806.0</td>\n",
       "      <td>3.5</td>\n",
       "      <td>7.1</td>\n",
       "    </tr>\n",
       "    <tr>\n",
       "      <th>111.0</th>\n",
       "      <td>2025.0</td>\n",
       "      <td>226246.0</td>\n",
       "      <td>4.3</td>\n",
       "      <td>8.6</td>\n",
       "    </tr>\n",
       "    <tr>\n",
       "      <th>133.0</th>\n",
       "      <td>2025.0</td>\n",
       "      <td>270686.0</td>\n",
       "      <td>3.4</td>\n",
       "      <td>10.1</td>\n",
       "    </tr>\n",
       "    <tr>\n",
       "      <th>155.0</th>\n",
       "      <td>2025.0</td>\n",
       "      <td>315126.0</td>\n",
       "      <td>3.4</td>\n",
       "      <td>12.1</td>\n",
       "    </tr>\n",
       "    <tr>\n",
       "      <th>177.0</th>\n",
       "      <td>2025.0</td>\n",
       "      <td>359566.0</td>\n",
       "      <td>3.4</td>\n",
       "      <td>14.1</td>\n",
       "    </tr>\n",
       "  </tbody>\n",
       "</table>\n",
       "</div>"
      ],
      "text/plain": [
       "          cmdp_size  mdp_size  fimdp_time  storm_time\n",
       "capacity                                             \n",
       "67.0         2025.0  137366.0         2.2         2.3\n",
       "89.0         2025.0  181806.0         3.5         7.1\n",
       "111.0        2025.0  226246.0         4.3         8.6\n",
       "133.0        2025.0  270686.0         3.4        10.1\n",
       "155.0        2025.0  315126.0         3.4        12.1\n",
       "177.0        2025.0  359566.0         3.4        14.1"
      ]
     },
     "execution_count": 30,
     "metadata": {},
     "output_type": "execute_result"
    }
   ],
   "source": [
    "df.set_index([\"size\",\"capacity\"]).loc[45].round(1)"
   ]
  },
  {
   "cell_type": "code",
   "execution_count": 11,
   "metadata": {},
   "outputs": [
    {
     "data": {
      "text/plain": [
       "<AxesSubplot:xlabel='storm_time', ylabel='fimdp_time'>"
      ]
     },
     "execution_count": 11,
     "metadata": {},
     "output_type": "execute_result"
    },
    {
     "data": {
      "image/png": "[encoded data removed]",
      "text/plain": [
       "<Figure size 432x288 with 1 Axes>"
      ]
     },
     "metadata": {
      "needs_background": "light"
     },
     "output_type": "display_data"
    }
   ],
   "source": [
    "df.plot(\"storm_time\", \"fimdp_time\", kind=\"scatter\")"
   ]
  }
 ],
 "metadata": {
  "kernelspec": {
   "display_name": "Python 3",
   "language": "python",
   "name": "python3"
  },
  "language_info": {
   "codemirror_mode": {
    "name": "ipython",
    "version": 3
   },
   "file_extension": ".py",
   "mimetype": "text/x-python",
   "name": "python",
   "nbconvert_exporter": "python",
   "pygments_lexer": "ipython3",
   "version": "3.8.5"
  }
 },
 "nbformat": 4,
 "nbformat_minor": 4
}
